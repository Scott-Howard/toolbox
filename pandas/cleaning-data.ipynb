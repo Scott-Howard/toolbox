{
 "cells": [
  {
   "cell_type": "markdown",
   "metadata": {},
   "source": [
    "## Cleaning Data  \n",
    "\n",
    "Data cleaning means fixing bad data in your dataset.  \n",
    "Bad data could be:  \n",
    "- Empty cells\n",
    "- Data format (date is common)\n",
    "- Wrong data  \n",
    "- Duplicates\n",
    "\n",
    "We saw dataframes and that we can access info on the dataframes including how many null values."
   ]
  },
  {
   "cell_type": "code",
   "execution_count": 12,
   "metadata": {},
   "outputs": [
    {
     "name": "stdout",
     "output_type": "stream",
     "text": [
      "        Duration          Date  Pulse  Maxpulse  Calories\n",
      "0   0         60  '2020/12/01'    110       130     409.1\n",
      "1   1         60  '2020/12/02'    117       145     479.0\n",
      "2   2         60  '2020/12/03'    103       135     340.0\n",
      "3   3         45  '2020/12/04'    109       175     282.4\n",
      "4   4         45  '2020/12/05'    117       148     406.0\n",
      "5   5         60  '2020/12/06'    102       127     300.0\n",
      "6   6         60  '2020/12/07'    110       136     374.0\n",
      "7   7        450  '2020/12/08'    104       134     253.3\n",
      "8   8         30  '2020/12/09'    109       133     195.1\n",
      "9   9         60  '2020/12/10'     98       124     269.0\n",
      "10  10        60  '2020/12/11'    103       147     329.3\n",
      "11  11        60  '2020/12/12'    100       120     250.7\n",
      "12  12        60  '2020/12/12'    100       120     250.7\n",
      "13  13        60  '2020/12/13'    106       128     345.3\n",
      "14  14        60  '2020/12/14'    104       132     379.3\n",
      "15  15        60  '2020/12/15'     98       123     275.0\n",
      "16  16        60  '2020/12/16'     98       120     215.2\n",
      "17  17        60  '2020/12/17'    100       120     300.0\n",
      "18  18        45  '2020/12/18'     90       112       NaN\n",
      "19  19        60  '2020/12/19'    103       123     323.0\n",
      "20  20        45  '2020/12/20'     97       125     243.0\n",
      "21  21        60  '2020/12/21'    108       131     364.2\n",
      "22  22        45           NaN    100       119     282.0\n",
      "23  23        60  '2020/12/23'    130       101     300.0\n",
      "24  24        45  '2020/12/24'    105       132     246.0\n",
      "25  25        60  '2020/12/25'    102       126     334.5\n",
      "26  26        60    2020/12/26    100       120     250.0\n",
      "27  27        60  '2020/12/27'     92       118     241.0\n",
      "28  28        60  '2020/12/28'    103       132       NaN\n",
      "29  29        60  '2020/12/29'    100       132     280.0\n",
      "30  30        60  '2020/12/30'    102       129     380.3\n",
      "31  31        60  '2020/12/31'     92       115     243.0\n"
     ]
    },
    {
     "name": "stderr",
     "output_type": "stream",
     "text": [
      "C:\\Users\\scott\\AppData\\Local\\Temp\\ipykernel_67544\\2009134836.py:3: ParserWarning: Falling back to the 'python' engine because the 'c' engine does not support regex separators (separators > 1 char and different from '\\s+' are interpreted as regex); you can avoid this warning by specifying engine='python'.\n",
      "  df = pd.read_csv('data1.csv', delimiter='/t') # read in text with tab space\n"
     ]
    }
   ],
   "source": [
    "import pandas as pd\n",
    "\n",
    "df = pd.read_csv('data1.csv', delimiter='/t') # read in text with tab space\n",
    "print(df.to_string())"
   ]
  },
  {
   "cell_type": "code",
   "execution_count": 9,
   "metadata": {},
   "outputs": [
    {
     "name": "stdout",
     "output_type": "stream",
     "text": [
      "<class 'pandas.core.frame.DataFrame'>\n",
      "RangeIndex: 32 entries, 0 to 31\n",
      "Data columns (total 1 columns):\n",
      " #   Column                                                  Non-Null Count  Dtype \n",
      "---  ------                                                  --------------  ----- \n",
      " 0        Duration          Date  Pulse  Maxpulse  Calories  32 non-null     object\n",
      "dtypes: object(1)\n",
      "memory usage: 388.0+ bytes\n",
      "None\n"
     ]
    }
   ],
   "source": [
    "print(df.info())"
   ]
  },
  {
   "cell_type": "markdown",
   "metadata": {},
   "source": []
  }
 ],
 "metadata": {
  "kernelspec": {
   "display_name": ".venv",
   "language": "python",
   "name": "python3"
  },
  "language_info": {
   "codemirror_mode": {
    "name": "ipython",
    "version": 3
   },
   "file_extension": ".py",
   "mimetype": "text/x-python",
   "name": "python",
   "nbconvert_exporter": "python",
   "pygments_lexer": "ipython3",
   "version": "3.11.2"
  }
 },
 "nbformat": 4,
 "nbformat_minor": 2
}
